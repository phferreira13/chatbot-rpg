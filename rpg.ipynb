{
  "nbformat": 4,
  "nbformat_minor": 0,
  "metadata": {
    "colab": {
      "provenance": [],
      "authorship_tag": "ABX9TyMsrdCX/qquc/J/WW943M6/",
      "include_colab_link": true
    },
    "kernelspec": {
      "name": "python3",
      "display_name": "Python 3"
    },
    "language_info": {
      "name": "python"
    }
  },
  "cells": [
    {
      "cell_type": "markdown",
      "metadata": {
        "id": "view-in-github",
        "colab_type": "text"
      },
      "source": [
        "<a href=\"https://colab.research.google.com/github/phferreira13/chatbot-rpg/blob/main/rpg.ipynb\" target=\"_parent\"><img src=\"https://colab.research.google.com/assets/colab-badge.svg\" alt=\"Open In Colab\"/></a>"
      ]
    },
    {
      "cell_type": "code",
      "source": [
        "!pip install -q google-generativeai"
      ],
      "metadata": {
        "id": "f_kpxMCsIHVP"
      },
      "execution_count": null,
      "outputs": []
    },
    {
      "cell_type": "code",
      "source": [
        "apiKey = input(\"Me informe sua API Key:\")"
      ],
      "metadata": {
        "id": "Lb8KvjDrIKF1"
      },
      "execution_count": null,
      "outputs": []
    },
    {
      "cell_type": "code",
      "source": [
        "from pathlib import Path\n",
        "import hashlib\n",
        "import google.generativeai as genai\n",
        "\n",
        "\n",
        "genai.configure(api_key=apiKey)"
      ],
      "metadata": {
        "id": "wRQ27HLYIDIe"
      },
      "execution_count": null,
      "outputs": []
    },
    {
      "cell_type": "code",
      "source": [
        "# Set up the model\n",
        "generation_config = {\n",
        "  \"temperature\": 0.8,\n",
        "  \"top_p\": 0.95,\n",
        "  \"top_k\": 0,\n",
        "  \"max_output_tokens\": 8192,\n",
        "}\n",
        "\n",
        "safety_settings = [\n",
        "  {\n",
        "    \"category\": \"HARM_CATEGORY_HARASSMENT\",\n",
        "    \"threshold\": \"BLOCK_ONLY_HIGH\"\n",
        "  },\n",
        "  {\n",
        "    \"category\": \"HARM_CATEGORY_HATE_SPEECH\",\n",
        "    \"threshold\": \"BLOCK_ONLY_HIGH\"\n",
        "  },\n",
        "  {\n",
        "    \"category\": \"HARM_CATEGORY_SEXUALLY_EXPLICIT\",\n",
        "    \"threshold\": \"BLOCK_ONLY_HIGH\"\n",
        "  },\n",
        "  {\n",
        "    \"category\": \"HARM_CATEGORY_DANGEROUS_CONTENT\",\n",
        "    \"threshold\": \"BLOCK_ONLY_HIGH\"\n",
        "  },\n",
        "]"
      ],
      "metadata": {
        "id": "J-37fGR7IbPM"
      },
      "execution_count": null,
      "outputs": []
    },
    {
      "cell_type": "code",
      "source": [
        "system_instruction = \"Considere que você está montando uma aventura de RPG para um jogador. Ao iniciar, comece gerando 3 opções de temas onde ocorreram a aventura, retorne as opções no formato: \\n\\n#Opção 1: Descrição\\n#Opção 2: Descrição\\n#Opção 3: Descrição\\n\\nExemplo:\\n#Opção 1: Tema Cyberpunk, onde a tecnologia é avançada e a sociedade é controlada por megacorporações.\\n#Opção 2: Tema Medieval, onde a magia é comum e os reinos estão em guerra.\\n#Opção 3: Tema Pós-Apocalíptico, onde a sociedade foi destruída e a humanidade luta para sobreviver.\\n\\nPeça para que o usuário escolher uma delas. Após isso peça para que o usuário descreva seu personagem, iniciando pela raça.\\nDê a opção de escolher 3 raças, com uma breve descrição.\\nEm seguida de a opção de escolher 3 classes. Cada classe virá com um equipamento inicial.\\nApós isso pergunte o nome do personagem e inicie a aventura.\\n\\nSempre que houverem escolhas, mostre no formato mencionado acima, caso o jogador escolha algo diferente, informe que foi uma escolha inválida e tente novamente.\\n\\nAssim que a aventura for iniciada, tente criar um objetivo para que ela seja concluída, mas isso não deve ser informado ao jogador. Você deve tentar conduzir o jogador para que conclua este objetivo.\\nAnálise a situação criada, veja se ela se encontra em uma dos dois tipos de situação possível: \\n\\n- Cena: Você apenas descreve a situação, podendo haver escolhas ou não.\\n- Escolha: O jogador deve escolher entre 3 opções.\\n\\nCaso seja uma cena, não se preocupe em escrever respostas muito curtas, mas tente sempre manter o jogador envolvido na história. Não passe muito além de 3 cenas sem que haja uma escolha.\\nA cena não deve ser muito longa, tendo no máximo 3 parágrafos.\\n\\nCaso seja uma escolha, retorne as opções no formato mencionado acima.\\nPara escolhas, sempre tente descrever o momento em 1 ou 2 parágrafos, e em seguida retorne as opções.\\n\\nCaso em algum momento não seja retornado algo com as 3 opções, retorne com a opção #Continuar.\"\n",
        "\n",
        "model = genai.GenerativeModel(model_name=\"gemini-1.5-pro-latest\",\n",
        "                              generation_config=generation_config,\n",
        "                              system_instruction=system_instruction,\n",
        "                              safety_settings=safety_settings)"
      ],
      "metadata": {
        "id": "05gQmvzoIdeG"
      },
      "execution_count": null,
      "outputs": []
    },
    {
      "cell_type": "code",
      "source": [
        "import textwrap\n",
        "from IPython.display import display\n",
        "from IPython.display import Markdown\n",
        "\n",
        "def to_markdown(text):\n",
        "  text = text.replace(\"`\", r\"\\`\")\n",
        "  return Markdown(textwrap.indent(text, '> ', predicate=lambda _: True))"
      ],
      "metadata": {
        "id": "0BRgM0KGJDn9"
      },
      "execution_count": null,
      "outputs": []
    },
    {
      "cell_type": "code",
      "source": [
        "chat = model.start_chat(history=[])\n",
        "response = chat.send_message(\"INICIAR\")\n",
        "display(to_markdown(f\"**Mestre:** {response.text}\"))\n",
        "\n",
        "prompt = input(\"Esperando escolha...\")\n",
        "while(prompt.upper() != \"FIM\"):\n",
        "  response = chat.send_message(prompt)\n",
        "  display(to_markdown(f\"**Mestre:** {response.text}\"))\n",
        "  print('-----------------------------------')\n",
        "  prompt = input(\"Esperando escolha...\")"
      ],
      "metadata": {
        "id": "ZrxpGlyMI4fN"
      },
      "execution_count": null,
      "outputs": []
    }
  ]
}